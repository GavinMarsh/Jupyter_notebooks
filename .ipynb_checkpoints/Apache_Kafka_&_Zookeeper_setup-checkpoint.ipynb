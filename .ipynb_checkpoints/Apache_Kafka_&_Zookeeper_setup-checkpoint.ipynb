{
 "cells": [
  {
   "cell_type": "markdown",
   "metadata": {},
   "source": [
    "#### Navigate to working directory & download Apache Kafka tar file\n",
    "https://www.apache.org/dyn/closer.cgi?path=/kafka/2.5.0/kafka_2.12-2.5.0.tgz\n",
    "\n",
    "#### Download Zookeeper\n",
    "https://zookeeper.apache.org/releases.html\n",
    "\n",
    "#### Unpack both Apache Kafka & Zookeeper\n",
    "`tar -xzf apache-zookeeper-3.6.1-bin.tar.gz`\n",
    "`tar -xzf tar -xzf kafka_2.12-2.5.0.tgz`\n",
    "\n",
    "#### Navigate into Apache Kafka parent directory\n",
    "`cd kafka_2.12-2.5.0`\n",
    "\n"
   ]
  }
 ],
 "metadata": {
  "kernelspec": {
   "display_name": "Python 3",
   "language": "python",
   "name": "python3"
  },
  "language_info": {
   "codemirror_mode": {
    "name": "ipython",
    "version": 3
   },
   "file_extension": ".py",
   "mimetype": "text/x-python",
   "name": "python",
   "nbconvert_exporter": "python",
   "pygments_lexer": "ipython3",
   "version": "3.7.6"
  }
 },
 "nbformat": 4,
 "nbformat_minor": 4
}

{
 "cells": [
  {
   "cell_type": "markdown",
   "metadata": {},
   "source": [
    "#### Clear screen\n",
    "\n",
    "`alias c='clear'`\n",
    "\n",
    "#### Use alias to cd into to sub-sub directories:\n",
    "\n",
    "`alias ..='cd ..'`\n",
    "\n",
    "`alias ...='cd ../..'`\n",
    "\n",
    "`alias ....='cd ../../..'`\n",
    "\n",
    "#### se alias to fix missing space typos:\n",
    "\n",
    "`alias cd..='cd ..'`\n",
    "\n",
    "#### Display the working directory\n",
    "`alias .='echo $PWD'`\n",
    "\n",
    "#### Prevent accidental deletions by making rm interactive:\n",
    "`alias rm='rm -i'`\n",
    "\n",
    "#### Shorten apt-get installation commands:\n",
    "`alias canhave='sudo apt-get install'`\n"
   ]
  }
 ],
 "metadata": {
  "kernelspec": {
   "display_name": "Python 3",
   "language": "python",
   "name": "python3"
  },
  "language_info": {
   "codemirror_mode": {
    "name": "ipython",
    "version": 3
   },
   "file_extension": ".py",
   "mimetype": "text/x-python",
   "name": "python",
   "nbconvert_exporter": "python",
   "pygments_lexer": "ipython3",
   "version": "3.7.6"
  }
 },
 "nbformat": 4,
 "nbformat_minor": 4
}

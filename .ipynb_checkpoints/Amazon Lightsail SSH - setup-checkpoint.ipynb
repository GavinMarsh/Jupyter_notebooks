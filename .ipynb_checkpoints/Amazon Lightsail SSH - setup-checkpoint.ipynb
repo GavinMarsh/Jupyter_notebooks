{
 "cells": [
  {
   "cell_type": "markdown",
   "metadata": {},
   "source": [
    "#### Download Putty\n",
    "https://www.chiark.greenend.org.uk/~sgtatham/putty/latest.html\n",
    "\n",
    "\n",
    "#### Step 1: Get the Private Key\n",
    "Log into your Lightsail account.\n",
    "\n",
    "On the top right, click on Account > Account.\n",
    "\n",
    "Navigate to the SSH Keys tab.\n",
    "\n",
    "Click the Download link which is next to the instance’s region.\n",
    "\n",
    "(You can also upload or create new)\n",
    "\n",
    "A LightsailDefaultKey-us-east-1.pem file will be downloaded.\n",
    "\n",
    "#### Step 2: In PuTTYgen Generating an *.ppk File\n",
    "Open the PuTTYgen client.\n",
    "\n",
    "Go to File > Load private key.\n",
    "\n",
    "In the Windows Browse dialog, switch from browsing just PuTTY Private Key Files (*.ppk) to All Files \n",
    "\n",
    "Open LightsailDefaultKey-us-east-1.pem file downloaded before.\n",
    "\n",
    "Click on the Save private key button.\n",
    "\n",
    "Click on Yes to Save it without the passphrase for convenience.\n",
    "\n",
    "Give a file name and save it as a *.ppk file.\n",
    "\n",
    "#### Step 3: SSHing with PuTTY\n",
    "Launch PuTTY\n",
    "\n",
    "Copy your website’s static IP address\n",
    "\n",
    "Details of this can be found by clicking home>then the name of your Instance.\n",
    "\n",
    "It will say Public IP: //26.343.4.564.6//\n",
    "\n",
    "Username: Ubuntu (keep a not of this for later)\n",
    "\n",
    "In PuTTY, paste the IP in the Host Name field.\n",
    "\n",
    "From the left, navigate to Connection > SSH > Auth.\n",
    "\n",
    "Browse and open the *.ppk file that you created previously.\n",
    "\n",
    "Click on Open.\n",
    "\n",
    "Confirm the trust connection dialog.\n",
    "\n",
    "For Login as: enter the username (the username you kept from earlier).\n",
    "\n"
   ]
  }
 ],
 "metadata": {
  "kernelspec": {
   "display_name": "Python 3",
   "language": "python",
   "name": "python3"
  },
  "language_info": {
   "codemirror_mode": {
    "name": "ipython",
    "version": 3
   },
   "file_extension": ".py",
   "mimetype": "text/x-python",
   "name": "python",
   "nbconvert_exporter": "python",
   "pygments_lexer": "ipython3",
   "version": "3.7.6"
  }
 },
 "nbformat": 4,
 "nbformat_minor": 4
}

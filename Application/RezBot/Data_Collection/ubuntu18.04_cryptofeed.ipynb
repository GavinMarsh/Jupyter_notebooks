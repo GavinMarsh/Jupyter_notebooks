{
 "cells": [
  {
   "cell_type": "markdown",
   "metadata": {},
   "source": [
    "### Set up venv\n",
    "\n",
    "`conda create -n myvenv python=3.7.6 anaconda`\n",
    "\n",
    "`conda activate myvenv`\n",
    "\n",
    "`conda install git`\n",
    "\n",
    "Clone the cryptofeed git repo\n",
    "git clone\n",
    "\n",
    "https://github.com/bmoscon/cryptofeed.git\n",
    "\n",
    "#### Install Cryptofeed\n",
    "\n",
    "`pip install cryptofeed`\n",
    "\n",
    "#### Install aiokafka\n",
    "\n",
    "`pip install aiokafka`\n",
    "\n",
    "#### to create a consumer for cryptofeed\n",
    "\n",
    "Run a producer.py file from cryptofeed parenent dir while venv cryptofeed\n",
    "\n",
    "Log-in to server administrator\n",
    "\n",
    "`sudo su -l kafka`\n",
    "\n",
    "`cd kafka`\n",
    "\n",
    "Run a consumer on kafka\n",
    "\n",
    "`~/kafka/bin/kafka-console-consumer.sh --bootstrap-server localhost:9092 --topic trades-BITMEX-XBTUSD`\n",
    "\n",
    "\n",
    "\n"
   ]
  }
 ],
 "metadata": {
  "kernelspec": {
   "display_name": "Python 3",
   "language": "python",
   "name": "python3"
  },
  "language_info": {
   "codemirror_mode": {
    "name": "ipython",
    "version": 3
   },
   "file_extension": ".py",
   "mimetype": "text/x-python",
   "name": "python",
   "nbconvert_exporter": "python",
   "pygments_lexer": "ipython3",
   "version": "3.7.6"
  }
 },
 "nbformat": 4,
 "nbformat_minor": 4
}

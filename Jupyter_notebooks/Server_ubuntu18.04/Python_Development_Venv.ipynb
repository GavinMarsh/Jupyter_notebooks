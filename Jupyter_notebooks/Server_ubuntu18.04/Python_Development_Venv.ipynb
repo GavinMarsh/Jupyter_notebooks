{
 "cells": [
  {
   "cell_type": "markdown",
   "metadata": {},
   "source": [
    "##### Ubuntu 18.04 ships with Python 3.6 by default. You can verify that Python 3 is installed on your system by running:\n",
    "`python3 -V`\n",
    "\n",
    "#### Update apt\n",
    "`sudo apt update`\n",
    "\n",
    "`sudo apt upgrade`\n",
    "\n",
    "#### Install Pip\n",
    "`sudo apt install -y python3-pip`\n",
    "\n",
    "#### Install robust development packages\n",
    "`sudo apt install build-essential libssl-dev libffi-dev python3-dev`\n",
    "\n",
    "#### Install venv\n",
    "`sudo apt install python3-venv`\n",
    "\n",
    "Switch to the directory where you would like to store your Python 3 virtual environments. Within the directory run the following command to create your new virtual environment:\n",
    "\n",
    "`python3 -m venv myvenv`\n",
    "\n",
    "The command above creates a directory called my-project-env, which contains a copy of the Python binary, the Pip package manager, the standard Python library and other supporting files.\n",
    "\n",
    "#### Activate it\n",
    "`source myvenv/bin/activate`\n",
    "\n",
    "Within the virtual environment, you can use the command pip instead of pip3 and python instead of python3.\n",
    "\n",
    "#### Deactivate\n",
    "`deactivate`\n",
    "\n"
   ]
  }
 ],
 "metadata": {
  "kernelspec": {
   "display_name": "Python 3",
   "language": "python",
   "name": "python3"
  },
  "language_info": {
   "codemirror_mode": {
    "name": "ipython",
    "version": 3
   },
   "file_extension": ".py",
   "mimetype": "text/x-python",
   "name": "python",
   "nbconvert_exporter": "python",
   "pygments_lexer": "ipython3",
   "version": "3.7.6"
  }
 },
 "nbformat": 4,
 "nbformat_minor": 4
}

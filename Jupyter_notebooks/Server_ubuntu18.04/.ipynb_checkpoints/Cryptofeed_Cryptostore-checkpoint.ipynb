{
 "cells": [
  {
   "cell_type": "markdown",
   "metadata": {},
   "source": [
    "### Updata & upgrade ubuntu\n",
    "\n",
    "`sudo apt update && sudo apt upgrade`\n",
    "\n",
    "### Update Anaconda\n",
    "\n",
    "`conda update conda`\n",
    "\n",
    "### Set up venv\n",
    "\n",
    "`conda create -n myenv python=3.7.6 anaconda` - creates a conda venv called ingestion.\n",
    "\n",
    "`conda activate myenv`\n",
    "\n",
    "`conda install git`\n",
    "\n",
    "Clone the cryptofeed git repo git clone\n",
    "\n",
    "https://github.com/bmoscon/cryptofeed.git\n",
    "\n",
    "### Install Cryptofeed requirements\n",
    "\n",
    "`pip install cryptofeed`\n",
    "\n",
    "### Install Cryptostore requirements\n",
    "\n",
    "`pip install cryptostore[kafka]`\n",
    "\n",
    "\n",
    "\n"
   ]
  }
 ],
 "metadata": {
  "kernelspec": {
   "display_name": "Python 3",
   "language": "python",
   "name": "python3"
  },
  "language_info": {
   "codemirror_mode": {
    "name": "ipython",
    "version": 3
   },
   "file_extension": ".py",
   "mimetype": "text/x-python",
   "name": "python",
   "nbconvert_exporter": "python",
   "pygments_lexer": "ipython3",
   "version": "3.7.6"
  }
 },
 "nbformat": 4,
 "nbformat_minor": 4
}

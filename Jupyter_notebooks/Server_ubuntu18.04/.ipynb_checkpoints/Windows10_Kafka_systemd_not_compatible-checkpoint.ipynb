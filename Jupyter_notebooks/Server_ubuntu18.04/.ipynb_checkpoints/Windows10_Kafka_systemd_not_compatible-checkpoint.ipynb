{
 "cells": [
  {
   "cell_type": "markdown",
   "metadata": {},
   "source": [
    "Needs to be Linux environment.\n",
    "\n",
    "#### Install 7-zip\n",
    "https://www.7-zip.org/download.html\n",
    "\n",
    "#### Install JRE - (jre-10.0.2_windows-x64_bin)\n",
    "https://www.oracle.com/java/technologies/java-archive-javase10-downloads.html\n",
    "\n",
    "During the install, JDK will first install itself and then it’ll ask you for the location where you want to install JRE. I put both my JDK and JRE in a path with no spaces. My install location is C:\\Java\n",
    "\n",
    "The default install location is C:\\Program Files\\… Normally it’s fine to put Java in there but best not to for your Kafka installation to work. Kafka was meant for Linux platform to begin with, Having it on Windows is already a nice to have. I wouldn’t push it with Windows directory names with spaces and %20s\n",
    "\n",
    "#### Set PATHs\n",
    "We’ll need to set PATHs for all of our installations. So we’ll be revisiting this a few times in this article. We’ll set two kinds of PATH variables — the User variable and the System variable. In the User variable, we’ll add the path to the install location, and in the system variable, we’ll set the path to the bin directory.\n",
    "\n",
    "#### Let’s start by setting PATHs to what we just installed JRE.\n",
    "Start typing ‘Environment’ in your Windows search bar. It’ll come up with an option to Edit the Systems variable in the Control Panel. Click that and you’ll be in System Properties. Click on the button that says Environment Variables… on the lower right.\n",
    "\n",
    "### User Variables\n",
    "Under User variables which is the top box, click on New and add JAVA_HOME and JRE_HOME. For the value for JAVA_HOME, click on the Browse Directories button and navigate to where you installed JRE. I used C:\\Java\n",
    "\n",
    "In the System variable box, double click on the Path and add the following two entries at the end\n",
    "%JRE_HOME%\\bin\n",
    "\n",
    "#### Test\n",
    "If you’ve set it upright, open a command prompt in any directory. A quick way to do that is to go to any directory with your windows file explorer and then type ‘cmd’ (without the quotes) in the address bar of the file explorer. It’ll open up a prompt at that location. You can make this location a directory that’s different from your Java installation so you really know if your PATH variables are working.\n",
    "\n",
    "Type `java -version`\n",
    "\n",
    "java version “1.8.0_221”\n",
    "Java(TM) SE Runtime Environment (build 1.8.0_221-b11)\n",
    "Java HotSpot(TM) 64-Bit Server VM (build 25.221-b11, mixed mode)\n",
    "\n",
    "If you get something else like java is not recognized as an internal or external command, then your PATH is not set correctly. To make sure that it’s not a problem with the installation itself, you can go to the bin directory of the JDK and type in the above command. If it works from there but not from anywhere else, it means the system can’t find it. For every command typed in the command prompt, your computer runs through the list in your PATH variables to find a match. That’s why errors like this are usually PATH problems.\n",
    "\n",
    "\n"
   ]
  }
 ],
 "metadata": {
  "kernelspec": {
   "display_name": "Python 3",
   "language": "python",
   "name": "python3"
  },
  "language_info": {
   "codemirror_mode": {
    "name": "ipython",
    "version": 3
   },
   "file_extension": ".py",
   "mimetype": "text/x-python",
   "name": "python",
   "nbconvert_exporter": "python",
   "pygments_lexer": "ipython3",
   "version": "3.7.6"
  }
 },
 "nbformat": 4,
 "nbformat_minor": 4
}

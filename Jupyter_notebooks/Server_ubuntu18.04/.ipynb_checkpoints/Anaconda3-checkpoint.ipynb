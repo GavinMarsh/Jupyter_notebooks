{
 "cells": [
  {
   "cell_type": "markdown",
   "metadata": {},
   "source": [
    "#### Step 1 — Retrieve the Latest Version of Anaconda\n",
    "From a web browser, go to the Anaconda Distribution page, available via the following link:\n",
    "\n",
    "https://www.anaconda.com/distribution/\n",
    "Find the latest Linux version and copy the installer bash script.\n",
    "\n",
    "#### Step 2 — Download the Anaconda Bash Script\n",
    "Logged into your Ubuntu 18.04 server as a sudo non-root user, move into the /tmp directory and use wget to download the link you copied from the Anaconda website:\n",
    "\n",
    "`cd /tmp`\n",
    "\n",
    "`wget https://repo.anaconda.com/archive/Anaconda3-2020.02-Linux-x86_64.sh` - change the url.\n",
    "\n",
    "#### Step 3 — Verify the Data Integrity of the Installer\n",
    "Ensure the integrity of the installer with cryptographic hash verification through SHA-256 checksum:\n",
    "\n",
    "`sha256sum Anaconda3-2020.02-Linux-x86_64.sh` - again change to the correct url.\n",
    "\n",
    "#### Step 4 — Run the Anaconda Script\n",
    "`bash Anaconda3-2020.02-Linux-x86_64.sh` - again update the version number.\n",
    "You’ll receive the following output to review the license agreement by pressing ENTER/SPACE-BAR until you reach the end.\n",
    "\n",
    "#### Step 7 — Activate Installation\n",
    "You can now activate the installation with the following command:\n",
    "\n",
    "`source ~/.bashrc`\n",
    "\n",
    "#### Step 8 — Test Installation\n",
    "Use the conda command to test the installation and activation:\n",
    "\n",
    "`conda list`\n"
   ]
  }
 ],
 "metadata": {
  "kernelspec": {
   "display_name": "Python 3",
   "language": "python",
   "name": "python3"
  },
  "language_info": {
   "codemirror_mode": {
    "name": "ipython",
    "version": 3
   },
   "file_extension": ".py",
   "mimetype": "text/x-python",
   "name": "python",
   "nbconvert_exporter": "python",
   "pygments_lexer": "ipython3",
   "version": "3.7.6"
  }
 },
 "nbformat": 4,
 "nbformat_minor": 4
}

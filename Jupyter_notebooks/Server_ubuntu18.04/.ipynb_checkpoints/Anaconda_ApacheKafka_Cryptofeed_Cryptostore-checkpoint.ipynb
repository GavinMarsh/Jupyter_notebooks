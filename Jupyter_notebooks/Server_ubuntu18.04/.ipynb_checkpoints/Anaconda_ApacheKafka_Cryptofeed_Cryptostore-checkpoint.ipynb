{
 "cells": [
  {
   "cell_type": "markdown",
   "metadata": {},
   "source": [
    "## Install Putty on local machine (windows10)\n",
    "\n",
    "## Set staticIP on lightsail instance\n",
    "\n",
    "## SSH onto server\n",
    "\n",
    "## Set firewall to accept any connection.\n",
    "\n",
    "## Install Anaconda\n",
    "\n",
    "## Install Kafka\n",
    "\n",
    "## Setup conda venv\n",
    "\n",
    "## Install Git\n",
    "\n",
    "## Log-in to venv\n",
    "\n",
    "## Clone all required repos"
   ]
  }
 ],
 "metadata": {
  "kernelspec": {
   "display_name": "Python 3",
   "language": "python",
   "name": "python3"
  },
  "language_info": {
   "codemirror_mode": {
    "name": "ipython",
    "version": 3
   },
   "file_extension": ".py",
   "mimetype": "text/x-python",
   "name": "python",
   "nbconvert_exporter": "python",
   "pygments_lexer": "ipython3",
   "version": "3.7.6"
  }
 },
 "nbformat": 4,
 "nbformat_minor": 4
}

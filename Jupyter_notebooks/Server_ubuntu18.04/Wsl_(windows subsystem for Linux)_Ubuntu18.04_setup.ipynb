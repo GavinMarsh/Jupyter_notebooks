{
 "cells": [
  {
   "cell_type": "markdown",
   "metadata": {},
   "source": [
    "### Follow Microsoft WSL2 installation docs\n",
    "https://docs.microsoft.com/en-gb/windows/wsl/install-win10\n",
    "\n",
    "### Install GNome GUI\n",
    "`sudo apt-get update`\n",
    "\n",
    "`sudo apt-get upgrade -y`\n",
    "\n",
    "#### install Tasksel to help install the GUI\n",
    "\n",
    "`sudo apt-get tasksel -y`\n",
    "\n",
    "#### Once the above command completes, issue the command:\n",
    "\n",
    "`sudo tasksel`\n",
    "\n",
    "A curses-based GUI will open. Using the keyboard arrow keys, scroll down to highlight Ubuntu desktop, Once you've highlighted Ubuntu desktop.\n",
    "\n",
    "#### Click the spacebar to select it\n",
    "\n",
    "Tab down to Ok, and hit Enter on your keyboard. This will install everything necessary for a successful GNOME desktop on Ubuntu Server. When the process completes, reboot the server and, upon reboot, you'll be greeted by the LightDM Display Manager.\n",
    "\n",
    "#### If the above does not work try...\n",
    "`sudo apt-get install kubuntu-desktop^` - this is an alternative wasy to install GNOME.\n"
   ]
  }
 ],
 "metadata": {
  "kernelspec": {
   "display_name": "Python 3",
   "language": "python",
   "name": "python3"
  },
  "language_info": {
   "codemirror_mode": {
    "name": "ipython",
    "version": 3
   },
   "file_extension": ".py",
   "mimetype": "text/x-python",
   "name": "python",
   "nbconvert_exporter": "python",
   "pygments_lexer": "ipython3",
   "version": "3.7.6"
  }
 },
 "nbformat": 4,
 "nbformat_minor": 4
}

{
 "cells": [
  {
   "cell_type": "markdown",
   "metadata": {},
   "source": [
    "## FileZiller\n",
    "\n",
    "https://lightsail.aws.amazon.com/ls/docs/en_us/articles/amazon-lightsail-connecting-to-linux-unix-instance-using-sftp\n",
    "\n",
    "\n",
    "https://wiki.filezilla-project.org/Using#Transferring_files\n",
    "\n",
    "\n",
    "## using atom with FileZiller\n",
    "Go to Edit » Settings menu\n",
    "\n",
    "Click on File editing in the left pane.\n",
    "\n",
    "Check the Use custom editor radio button and paste this into the corresponding field: C:\\Users\\Your_user_name\\AppData\\Local\\atom\\bin\\atom.cmd or the path to the atom.cmd file if using another Windows OS.\n",
    "\n",
    "Check the radio button Always use default editor (or not if you wnat to associate each file type to another editor…)\n",
    "\n",
    "Check the checkbox Watch locally edited files and prompt to upload modifications Then click OK"
   ]
  }
 ],
 "metadata": {
  "kernelspec": {
   "display_name": "Python 3",
   "language": "python",
   "name": "python3"
  },
  "language_info": {
   "codemirror_mode": {
    "name": "ipython",
    "version": 3
   },
   "file_extension": ".py",
   "mimetype": "text/x-python",
   "name": "python",
   "nbconvert_exporter": "python",
   "pygments_lexer": "ipython3",
   "version": "3.7.6"
  }
 },
 "nbformat": 4,
 "nbformat_minor": 4
}

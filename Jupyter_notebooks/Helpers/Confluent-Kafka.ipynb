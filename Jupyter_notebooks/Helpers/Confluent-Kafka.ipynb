{
 "cells": [
  {
   "cell_type": "markdown",
   "metadata": {},
   "source": [
    "#### To make Cryptofeed work with Control Centre, use quick start guide (cp-all-in-one)\n",
    "\n",
    "https://docs.confluent.io/current/quickstart/ce-docker-quickstart.html#ce-docker-quickstart\n",
    "\n",
    "\n",
    "#### To make Grafana work\n",
    "\n",
    "https://github.com/confluentinc/jmx-monitoring-stacks\n",
    "\n",
    "\n",
    "#### Working Control Center & Grafana\n",
    "\n",
    "https://docs.confluent.io/current/tutorials/examples/clickstream/docs/index.html?utm_source=github&utm_medium=demo&utm_campaign=ch.examples_type.community_content.clickstream\n",
    "\n",
    "\n",
    "\n"
   ]
  }
 ],
 "metadata": {
  "kernelspec": {
   "display_name": "Python 3",
   "language": "python",
   "name": "python3"
  },
  "language_info": {
   "codemirror_mode": {
    "name": "ipython",
    "version": 3
   },
   "file_extension": ".py",
   "mimetype": "text/x-python",
   "name": "python",
   "nbconvert_exporter": "python",
   "pygments_lexer": "ipython3",
   "version": "3.7.6"
  }
 },
 "nbformat": 4,
 "nbformat_minor": 4
}

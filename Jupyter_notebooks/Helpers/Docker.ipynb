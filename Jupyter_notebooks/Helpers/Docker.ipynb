{
 "cells": [
  {
   "cell_type": "markdown",
   "metadata": {},
   "source": [
    "# Stop Docker\n",
    "When you are done working with Docker, you can stop and remove Docker containers and images.\n",
    "\n",
    "1. View a list of all Docker container IDs.\n",
    "\n",
    "`docker container ls -aq`\n",
    "\n",
    "2. Run the following command to stop the Docker containers for Confluent:\n",
    "\n",
    "`docker container stop $(docker container ls -a -q -f \"label=io.confluent.docker\")`\n",
    "\n",
    "3. Run the following commands to stop the containers and prune the Docker system. Running these commands deletes containers, networks, volumes, and images; freeing up disk space:\n",
    "\n",
    "`docker container stop $(docker container ls -a -q -f \"label=io.confluent.docker\") && docker system prune -a -f --volumes`\n",
    "\n",
    "### Tip\n",
    "Remove the filter label for Confluent Docker (-f \"label=io.confluent.docker\") to clear all Docker containers from your system."
   ]
  }
 ],
 "metadata": {
  "kernelspec": {
   "display_name": "Python 3",
   "language": "python",
   "name": "python3"
  },
  "language_info": {
   "codemirror_mode": {
    "name": "ipython",
    "version": 3
   },
   "file_extension": ".py",
   "mimetype": "text/x-python",
   "name": "python",
   "nbconvert_exporter": "python",
   "pygments_lexer": "ipython3",
   "version": "3.7.6"
  }
 },
 "nbformat": 4,
 "nbformat_minor": 4
}

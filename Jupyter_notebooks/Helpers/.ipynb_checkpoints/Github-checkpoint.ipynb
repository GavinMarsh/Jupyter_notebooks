{
 "cells": [
  {
   "cell_type": "markdown",
   "metadata": {},
   "source": [
    "If you have made changes on the directory that you wish to ignore and pull a fresh master copy:\n",
    "\n",
    "`git stash push`\n",
    "\n",
    "`git stash drop`\n",
    "\n",
    "`git pull`\n",
    "\n",
    "https://github.github.com/training-kit/downloads/github-git-cheat-sheet.pdf\n",
    "\n",
    "## Set up cloning via SSH, click the small icon next to the git hub repo clone tab.\n",
    "\n",
    "I came here because I had the same problem. From your question, I realized that I was copying the contents from the wrong file, without the .pub extension (it was my private key, i.e. the id_rsa file, which should be kept private at all times!)\n",
    "\n",
    "`nano ~/.ssh/id_rsa.pub`\n",
    "\n",
    "### Sync your Git Fork to the Original Repo\n",
    "\n",
    "With these 5 commands below you can sync your forked repository with the original repository and push the changes to your Github repository.\n",
    "\n",
    "`git remote add upstream https://github.com/[Original Owner Username]/[Original Repository].git`\n",
    "\n",
    "`git fetch upstream`\n",
    "\n",
    "`git checkout master`\n",
    "\n",
    "`git merge upstream/master`\n",
    "\n",
    "`git push`\n"
   ]
  }
 ],
 "metadata": {
  "kernelspec": {
   "display_name": "Python 3",
   "language": "python",
   "name": "python3"
  },
  "language_info": {
   "codemirror_mode": {
    "name": "ipython",
    "version": 3
   },
   "file_extension": ".py",
   "mimetype": "text/x-python",
   "name": "python",
   "nbconvert_exporter": "python",
   "pygments_lexer": "ipython3",
   "version": "3.7.6"
  }
 },
 "nbformat": 4,
 "nbformat_minor": 4
}

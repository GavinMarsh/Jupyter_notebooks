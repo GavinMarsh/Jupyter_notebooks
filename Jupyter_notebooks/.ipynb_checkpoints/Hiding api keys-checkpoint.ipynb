{
 "cells": [
  {
   "cell_type": "markdown",
   "metadata": {},
   "source": [
    "## How to hide API keys in the Anaconda project environment\n",
    "\n",
    "### open anaconda command prompt\n",
    "$ conda create --name myenv\n",
    "\n",
    "$ cd anaconda3/envs/myenv\n",
    "\n",
    "$ mkdir -p activate.d\n",
    "\n",
    "$ notepad env_vars.sh\n",
    "\n",
    "### populate file with\n",
    "#!/bin/sh\n",
    "export PUBLIC_KEY='PUBLIC_KEY_GOES_HERE'\n",
    "export SECRET_KEY='SECRET_KEY_GOES_HERE'\n",
    "\n",
    "$ mkdir -p deactivate.d\n",
    "\n",
    "$ notepad deactivate.d/env_vars.sh\n",
    "\n",
    "### populate file with\n",
    "#!/bin/sh\n",
    "\n",
    "unset PUBLIC_KEY\n",
    "unset SECRET_KEY\n",
    "\n",
    "### That’s Great, But How do I Use Them?\n",
    "Using these variables in python is actually quite easy.\n",
    "First, where ever you do your imports, load the os module with\n",
    "import os\n",
    "Then simply, you can fetch them using the names set earlier and the os.environ.get() command like so:\n",
    "\n",
    "API_PUBLIC = os.environ.get(\"PUBLIC_KEY\")\n",
    "API_SECRET = os.environ.get(\"SECRET_KEY\")"
   ]
  },
  {
   "cell_type": "code",
   "execution_count": null,
   "metadata": {},
   "outputs": [],
   "source": []
  }
 ],
 "metadata": {
  "kernelspec": {
   "display_name": "Python 3",
   "language": "python",
   "name": "python3"
  },
  "language_info": {
   "codemirror_mode": {
    "name": "ipython",
    "version": 3
   },
   "file_extension": ".py",
   "mimetype": "text/x-python",
   "name": "python",
   "nbconvert_exporter": "python",
   "pygments_lexer": "ipython3",
   "version": "3.7.6"
  }
 },
 "nbformat": 4,
 "nbformat_minor": 4
}

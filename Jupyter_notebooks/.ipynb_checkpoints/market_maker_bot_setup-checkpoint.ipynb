{
 "cells": [
  {
   "cell_type": "markdown",
   "metadata": {},
   "source": [
    "#### Open anaconda command prompt &navigate to directory where you would like the bot to live.\n",
    "\n",
    "#### Activate myenv\n",
    "\n",
    "`conda create -n marketmaker python=3.7.0 anaconda`\n",
    "\n",
    "`conda activate marketmaker`\n",
    "\n",
    "`python -m pip install --upgrade pip`\n",
    "\n",
    "`conda install PyHamcrest`\n",
    "\n",
    "`conda install git`\n",
    "\n",
    "#### Clone the BitMEX market_maker Git repo\n",
    "`git clone https://github.com/GavinMarsh/sample-market-maker.git`\n",
    "\n",
    "#### Install all the dependancies.\n",
    "`pip install -r requirements.txt`\n",
    "\n",
    "#### Install API/Websocket connector\n",
    "`pip install bitmex-market-maker`\n",
    "\n",
    "#### Create a markermaker project\n",
    "`marketmaker setup`\n",
    "\n",
    "#### Update settings file\n",
    "\n",
    "Add BitMEX Testnet api key/secret /n\n",
    "\n",
    "Select BaseURL (testnet/main)\\n\n",
    "\n",
    "Dryrun true/false\n",
    "\n",
    "`setting.py`\n",
    "\n",
    "#### Copy marketmaker file in parent directory and rename to backwardation_strategy\n",
    "\n",
    "Open backwardation_strategy and change the contents to:\n",
    "\n",
    "`#!/usr/bin/env python`\n",
    "\n",
    "`from market_maker import backwardation_strategy`\n",
    "\n",
    "`backwardation_strategy.run()`\n",
    "\n",
    "#### Create strategy script inside marketmaker sub directory:\n",
    "\n",
    "Navigate to marketmaker sub directory. Duplicate custom_strategy and rename to backwardation_strategy.\n",
    "\n",
    "#### Navigate to parent directory & run strategy:\n",
    "`python market_maker/backwardation_strategy.py`\n"
   ]
  },
  {
   "cell_type": "code",
   "execution_count": null,
   "metadata": {},
   "outputs": [],
   "source": []
  },
  {
   "cell_type": "code",
   "execution_count": null,
   "metadata": {},
   "outputs": [],
   "source": []
  },
  {
   "cell_type": "code",
   "execution_count": null,
   "metadata": {},
   "outputs": [],
   "source": []
  },
  {
   "cell_type": "code",
   "execution_count": null,
   "metadata": {},
   "outputs": [],
   "source": []
  },
  {
   "cell_type": "code",
   "execution_count": null,
   "metadata": {},
   "outputs": [],
   "source": []
  }
 ],
 "metadata": {
  "kernelspec": {
   "display_name": "Python 3",
   "language": "python",
   "name": "python3"
  },
  "language_info": {
   "codemirror_mode": {
    "name": "ipython",
    "version": 3
   },
   "file_extension": ".py",
   "mimetype": "text/x-python",
   "name": "python",
   "nbconvert_exporter": "python",
   "pygments_lexer": "ipython3",
   "version": "3.7.6"
  }
 },
 "nbformat": 4,
 "nbformat_minor": 4
}

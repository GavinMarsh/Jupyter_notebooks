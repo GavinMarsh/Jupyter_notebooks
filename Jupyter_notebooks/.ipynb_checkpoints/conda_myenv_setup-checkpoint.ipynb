{
 "cells": [
  {
   "cell_type": "markdown",
   "metadata": {},
   "source": [
    "#### 1. Check conda is installed and in your PATH\n",
    "conda -V\n",
    "\n",
    "#### 2. Check conda is up to date\n",
    "conda update conda\n",
    "\n",
    "#### 3. Check what python versions are available\n",
    "conda search \"^python$\"\n",
    "\n",
    "#### 4. Create a virtual environment for your project\n",
    "conda create -n myenv python=3.8.3 anaconda\n",
    "\n",
    "#### 5. Activate your virtual environment.\n",
    "conda activate myenv\n",
    "\n",
    "#### 6. Install additional Python packages to a virtual environment.\n",
    "conda install -n myenv [package]\n",
    "\n",
    "#### 7. Deactivate your virtual environment.\n",
    "conda deactivate\n",
    "\n",
    "#### 8. Delete a no longer needed virtual environment\n",
    "conda env remove -n myenv"
   ]
  },
  {
   "cell_type": "code",
   "execution_count": null,
   "metadata": {},
   "outputs": [],
   "source": []
  }
 ],
 "metadata": {
  "kernelspec": {
   "display_name": "Python 3",
   "language": "python",
   "name": "python3"
  },
  "language_info": {
   "codemirror_mode": {
    "name": "ipython",
    "version": 3
   },
   "file_extension": ".py",
   "mimetype": "text/x-python",
   "name": "python",
   "nbconvert_exporter": "python",
   "pygments_lexer": "ipython3",
   "version": "3.7.6"
  }
 },
 "nbformat": 4,
 "nbformat_minor": 4
}

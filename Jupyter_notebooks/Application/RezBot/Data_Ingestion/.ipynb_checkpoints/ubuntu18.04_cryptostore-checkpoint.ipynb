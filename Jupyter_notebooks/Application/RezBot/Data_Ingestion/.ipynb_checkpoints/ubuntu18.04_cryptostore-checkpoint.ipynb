{
 "cells": [
  {
   "cell_type": "markdown",
   "metadata": {},
   "source": [
    "### Step 1 - Set up Environment\n",
    "\n",
    "#### Create a virtual environment for your project\n",
    "\n",
    "Use the same python installed on the ubuntu machine\n",
    "\n",
    "`python -V`\n",
    "\n",
    "`conda create -n cryptostore python=3.7.6 anaconda`\n",
    "\n",
    "#### Install requirements\n",
    "\n",
    "`pip install cryptostore[kafka]`\n",
    "\n",
    "#### Clone github repo\n",
    "\n",
    "`git clone https://github.com/GavinMarsh/cryptostore.git`\n",
    "\n",
    "#### Move into cryptostore dir\n",
    "\n",
    "`cd cryptostore`\n",
    "\n"
   ]
  }
 ],
 "metadata": {
  "kernelspec": {
   "display_name": "Python 3",
   "language": "python",
   "name": "python3"
  },
  "language_info": {
   "codemirror_mode": {
    "name": "ipython",
    "version": 3
   },
   "file_extension": ".py",
   "mimetype": "text/x-python",
   "name": "python",
   "nbconvert_exporter": "python",
   "pygments_lexer": "ipython3",
   "version": "3.7.6"
  }
 },
 "nbformat": 4,
 "nbformat_minor": 4
}

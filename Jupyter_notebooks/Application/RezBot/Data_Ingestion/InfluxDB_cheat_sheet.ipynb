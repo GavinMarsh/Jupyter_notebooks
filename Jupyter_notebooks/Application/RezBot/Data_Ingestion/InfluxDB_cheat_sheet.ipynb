{
 "cells": [
  {
   "cell_type": "markdown",
   "metadata": {},
   "source": [
    "Log-in to Influx terminal¶\n",
    "\n",
    "`influx -username 'superadmin' -password 'your_password_here'`\n",
    "\n",
    "That should logon to the console.\n",
    "\n",
    "`use [data_base_name]` don't include brackets, selects the database you want.\n",
    "\n",
    "`select count(*) from /.*/` provides a print out of the table rows, returns nothing if empty.\n",
    "\n",
    "You can also use curl to run queries. For example, to list databases, run the curl commands below:\n",
    "\n",
    "curl -G http://localhost:8086/query -u superadmin:password_here --data-urlencode \"q=SHOW DATABASES\""
   ]
  }
 ],
 "metadata": {
  "kernelspec": {
   "display_name": "Python 3",
   "language": "python",
   "name": "python3"
  },
  "language_info": {
   "codemirror_mode": {
    "name": "ipython",
    "version": 3
   },
   "file_extension": ".py",
   "mimetype": "text/x-python",
   "name": "python",
   "nbconvert_exporter": "python",
   "pygments_lexer": "ipython3",
   "version": "3.7.6"
  }
 },
 "nbformat": 4,
 "nbformat_minor": 4
}

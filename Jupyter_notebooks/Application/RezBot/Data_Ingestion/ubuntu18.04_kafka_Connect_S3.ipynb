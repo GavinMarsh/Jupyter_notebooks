{
 "cells": [
  {
   "cell_type": "markdown",
   "metadata": {},
   "source": [
    "Aiven Kafka connect S3 with Apache Kafka install:\n",
    "\n",
    "https://help.aiven.io/en/articles/2334804-aiven-kafka-s3-sink-connector\n",
    "\n",
    "https://github.com/aiven/aiven-kafka-connect-s3\n",
    "\n",
    "\n",
    "\n",
    "Confluence S3 sink connector:\n",
    "\n",
    "https://supergloo.com/kafka-connect/kafka-connect-s3-examples/\n",
    "\n",
    "\n",
    "https://www.youtube.com/watch?v=_RdMCc4HGPY\n",
    "\n",
    "Installing Confluent Hub for using Confluent Community Software:\n",
    "\n",
    "https://www.confluent.io/hub/confluentinc/kafka-connect-s3\n",
    "\n",
    "Installing the Kafka A3 sink connector\n",
    "\n",
    "https://www.confluent.io/hub/confluentinc/kafka-connect-s3\n",
    "\n",
    "\n",
    "Google Cloud Services (GCS)\n",
    "https://github.com/aiven/aiven-kafka-connect-gcs\n",
    "\n"
   ]
  }
 ],
 "metadata": {
  "kernelspec": {
   "display_name": "Python 3",
   "language": "python",
   "name": "python3"
  },
  "language_info": {
   "codemirror_mode": {
    "name": "ipython",
    "version": 3
   },
   "file_extension": ".py",
   "mimetype": "text/x-python",
   "name": "python",
   "nbconvert_exporter": "python",
   "pygments_lexer": "ipython3",
   "version": "3.7.6"
  }
 },
 "nbformat": 4,
 "nbformat_minor": 4
}

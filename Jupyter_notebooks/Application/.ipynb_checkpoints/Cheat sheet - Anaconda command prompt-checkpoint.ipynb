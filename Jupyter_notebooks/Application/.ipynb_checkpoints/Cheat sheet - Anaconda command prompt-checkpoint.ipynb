{
 "cells": [
  {
   "cell_type": "markdown",
   "metadata": {},
   "source": [
    "`rmdir /s` remove a directory and it's contents\n",
    "\n",
    "`conda install -n myenv [package]` To install packages to myenv\n",
    "\n",
    "`conda -V` to get the conda version\n",
    "\n",
    "`python -V` to get the python version\n",
    "\n",
    "`conda list anaconda` to get the Anaconda version\n",
    "\n",
    "`conda list` to get the Name,Version,Build & Channel details of all the packages installed (in the current environment)\n",
    "\n",
    "`conda info` to get all the current environment details\n",
    "\n",
    "`conda info --envs` To see a list of all your environments"
   ]
  },
  {
   "cell_type": "code",
   "execution_count": null,
   "metadata": {},
   "outputs": [],
   "source": []
  }
 ],
 "metadata": {
  "kernelspec": {
   "display_name": "Python 3",
   "language": "python",
   "name": "python3"
  },
  "language_info": {
   "codemirror_mode": {
    "name": "ipython",
    "version": 3
   },
   "file_extension": ".py",
   "mimetype": "text/x-python",
   "name": "python",
   "nbconvert_exporter": "python",
   "pygments_lexer": "ipython3",
   "version": "3.7.6"
  }
 },
 "nbformat": 4,
 "nbformat_minor": 4
}

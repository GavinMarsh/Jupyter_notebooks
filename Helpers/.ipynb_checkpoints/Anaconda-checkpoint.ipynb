{
 "cells": [
  {
   "cell_type": "markdown",
   "metadata": {},
   "source": [
    "\n",
    "`conda update conda` update conda\n",
    "\n",
    "`conda search \"^python$\"` check what python versions are available\n",
    "\n",
    "`conda activate myenv` activate your virtual environment\n",
    "\n",
    "`conda deactivate` deactivate your virtual environment\n",
    "\n",
    "`rmdir /s` remove a directory and it's contents\n",
    "\n",
    "`conda create -n myenv python=3.7.6 anaconda` Create a virtual environment for your project\n",
    "\n",
    "`conda install -n myenv [package]` To install packages to myenv\n",
    "\n",
    "`conda -V` to get the conda version\n",
    "\n",
    "`python -V` to get the python version\n",
    "\n",
    "`conda list anaconda` to get the Anaconda version\n",
    "\n",
    "`conda list` to get the Name,Version,Build & Channel details of all the packages installed (in the current environment)\n",
    "\n",
    "`conda info` to get all the current environment details\n",
    "\n",
    "`conda info --envs` To see a list of all your environments"
   ]
  }
 ],
 "metadata": {
  "kernelspec": {
   "display_name": "Python 3",
   "language": "python",
   "name": "python3"
  },
  "language_info": {
   "codemirror_mode": {
    "name": "ipython",
    "version": 3
   },
   "file_extension": ".py",
   "mimetype": "text/x-python",
   "name": "python",
   "nbconvert_exporter": "python",
   "pygments_lexer": "ipython3",
   "version": "3.7.6"
  }
 },
 "nbformat": 4,
 "nbformat_minor": 4
}
